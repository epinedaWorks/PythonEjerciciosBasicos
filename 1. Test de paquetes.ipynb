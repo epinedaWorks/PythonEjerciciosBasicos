{
 "cells": [
  {
   "cell_type": "markdown",
   "metadata": {},
   "source": [
    "# TEST \n",
    "Saber si se tienen instaladas las siguientes librerías.\n"
   ]
  },
  {
   "cell_type": "raw",
   "metadata": {},
   "source": [
    "NumPy\n",
    "matplotlib\n",
    "scikit-learn\n",
    "SciPy\n",
    "tqdm\n",
    "PyTorch\n",
    "\n",
    "\n",
    "En caso contrario, ejecutar:\n",
    "pip3 install numpy\n",
    "pip3 install matplotlib\n",
    "pip3 install scipy\n",
    "pip3 install tqdm\n",
    "pip3 install scikit-learn\n",
    "\n",
    "\n",
    "En el caso de Pytorch:\n",
    "conda install pytorch torchvision cudatoolkit=10.1 -c pytorch\n",
    "\n"
   ]
  }
 ],
 "metadata": {
  "kernelspec": {
   "display_name": "Python 3",
   "language": "python",
   "name": "python3"
  },
  "language_info": {
   "codemirror_mode": {
    "name": "ipython",
    "version": 3
   },
   "file_extension": ".py",
   "mimetype": "text/x-python",
   "name": "python",
   "nbconvert_exporter": "python",
   "pygments_lexer": "ipython3",
   "version": "3.7.1"
  }
 },
 "nbformat": 4,
 "nbformat_minor": 2
}
