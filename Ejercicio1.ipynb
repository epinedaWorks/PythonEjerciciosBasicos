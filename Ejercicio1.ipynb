{
 "cells": [
  {
   "cell_type": "markdown",
   "metadata": {},
   "source": [
    "## Ejercicio:\n",
    "Crear un arreglo de nx1 en Python:\n"
   ]
  },
  {
   "cell_type": "code",
   "execution_count": 1,
   "metadata": {},
   "outputs": [],
   "source": [
    "import pandas as pd\n",
    "#example of my first commit\n",
    "\n"
   ]
  },
  {
   "cell_type": "code",
   "execution_count": 2,
   "metadata": {},
   "outputs": [
    {
     "name": "stdout",
     "output_type": "stream",
     "text": [
      "PASS NumPy installed\n",
      "PASS SciPy installed\n",
      "PASS matplotlib installed\n",
      "PASS PyTorch installed\n",
      "PASS tqdm installed\n"
     ]
    }
   ],
   "source": [
    "import traceback\n",
    "import torch.nn as nn\n",
    "\n",
    "\n",
    "def green(s):\n",
    "    return '\\033[1;32m%s\\033[m' % s\n",
    "\n",
    "\n",
    "def yellow(s):\n",
    "    return '\\033[1;33m%s\\033[m' % s\n",
    "\n",
    "\n",
    "def red(s):\n",
    "    return '\\033[1;31m%s\\033[m' % s\n",
    "\n",
    "\n",
    "def log(*m):\n",
    "    print(\" \".join(map(str, m)))\n",
    "\n",
    "\n",
    "def log_exit(*m):\n",
    "    log(red(\"ERROR:\"), *m)\n",
    "    exit(1)\n",
    "\n",
    "\n",
    "def check_numpy():\n",
    "    try:\n",
    "        import numpy\n",
    "        log(green(\"PASS\"), \"NumPy installed\")\n",
    "    except ModuleNotFoundError:\n",
    "        log(red(\"FAIL\"), \"NumPy not installed\")\n",
    "\n",
    "\n",
    "def check_scipy():\n",
    "    try:\n",
    "        import scipy\n",
    "        log(green(\"PASS\"), \"SciPy installed\")\n",
    "    except ModuleNotFoundError:\n",
    "        log(red(\"FAIL\"), \"SciPy not installed\")\n",
    "\n",
    "\n",
    "def check_matplotlib():\n",
    "    try:\n",
    "        import matplotlib\n",
    "        log(green(\"PASS\"), \"matplotlib installed\")\n",
    "    except ModuleNotFoundError:\n",
    "        log(red(\"FAIL\"), \"matplotlib not installed\")\n",
    "\n",
    "\n",
    "def check_torch():\n",
    "    try:\n",
    "        import torch\n",
    "        log(green(\"PASS\"), \"PyTorch installed\")\n",
    "    except ModuleNotFoundError:\n",
    "        log(red(\"FAIL\"), \"PyTorch not installed\")\n",
    "\n",
    "\n",
    "def check_tqdm():\n",
    "    try:\n",
    "        import tqdm\n",
    "        log(green(\"PASS\"), \"tqdm installed\")\n",
    "    except ModuleNotFoundError:\n",
    "        log(red(\"FAIL\"), \"tqdm not installed\")\n",
    "\n",
    "\n",
    "def main():\n",
    "    try:\n",
    "        check_numpy()\n",
    "        check_scipy()\n",
    "        check_matplotlib()\n",
    "        check_torch()\n",
    "        check_tqdm()\n",
    "    except Exception:\n",
    "        log_exit(traceback.format_exc())\n",
    "\n",
    "\n",
    "if __name__ == \"__main__\":\n",
    "    main()\n"
   ]
  }
 ],
 "metadata": {
  "kernelspec": {
   "display_name": "Python 3",
   "language": "python",
   "name": "python3"
  },
  "language_info": {
   "codemirror_mode": {
    "name": "ipython",
    "version": 3
   },
   "file_extension": ".py",
   "mimetype": "text/x-python",
   "name": "python",
   "nbconvert_exporter": "python",
   "pygments_lexer": "ipython3",
   "version": "3.7.1"
  }
 },
 "nbformat": 4,
 "nbformat_minor": 2
}
