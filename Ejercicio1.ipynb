{
 "cells": [
  {
   "cell_type": "markdown",
   "metadata": {},
   "source": [
    "## Ejercicio:\n",
    "Crear un arreglo de nx1 en Python:\n",
    "\n",
    "Write a function called randomization that takes as input a positive integer n, and returns A, a random n x 1 Numpy array."
   ]
  },
  {
   "cell_type": "code",
   "execution_count": 1,
   "metadata": {},
   "outputs": [],
   "source": [
    "import numpy as np\n",
    "import random\n",
    "\n",
    "    \n",
    "def randomization(n):\n",
    "    \"\"\"\n",
    "    Arg:\n",
    "      n - an integer\n",
    "    Returns:\n",
    "      A - a randomly-generated nx1 Numpy array.\n",
    "    \"\"\"\n",
    "    #Your code here\n",
    "    A=np.random.random([n,1])\n",
    "    \n",
    "    return A\n",
    "\n",
    "\n"
   ]
  },
  {
   "cell_type": "code",
   "execution_count": 2,
   "metadata": {},
   "outputs": [],
   "source": [
    "z=randomization(15)"
   ]
  },
  {
   "cell_type": "code",
   "execution_count": 3,
   "metadata": {},
   "outputs": [
    {
     "name": "stdout",
     "output_type": "stream",
     "text": [
      "[[0.08741148]\n",
      " [0.009387  ]\n",
      " [0.99327577]\n",
      " [0.87368759]\n",
      " [0.68055415]\n",
      " [0.78822492]\n",
      " [0.50794116]\n",
      " [0.49257672]\n",
      " [0.65261596]\n",
      " [0.45222022]\n",
      " [0.28602008]\n",
      " [0.18631161]\n",
      " [0.56368799]\n",
      " [0.17631466]\n",
      " [0.28227846]]\n"
     ]
    }
   ],
   "source": [
    "print(z)"
   ]
  },
  {
   "cell_type": "code",
   "execution_count": 4,
   "metadata": {},
   "outputs": [
    {
     "name": "stdout",
     "output_type": "stream",
     "text": [
      "(15, 1)\n"
     ]
    }
   ],
   "source": [
    "print(z.shape)"
   ]
  },
  {
   "cell_type": "code",
   "execution_count": 5,
   "metadata": {},
   "outputs": [
    {
     "name": "stdout",
     "output_type": "stream",
     "text": [
      "<class 'numpy.ndarray'>\n"
     ]
    }
   ],
   "source": [
    "print(type(z))"
   ]
  },
  {
   "cell_type": "markdown",
   "metadata": {},
   "source": [
    "# Otra solucion es:"
   ]
  },
  {
   "cell_type": "code",
   "execution_count": 6,
   "metadata": {},
   "outputs": [],
   "source": [
    "def arregloRandom(n):\n",
    "    z = []\n",
    "    for i in range(0,n):\n",
    "        n2 = random.randint(1,30)\n",
    "        z.append(n2)\n",
    "    zz=np.array([z]).T\n",
    "    B=np.asarray(zz)\n",
    "    \n",
    "    return B\n"
   ]
  },
  {
   "cell_type": "code",
   "execution_count": 7,
   "metadata": {},
   "outputs": [
    {
     "name": "stdout",
     "output_type": "stream",
     "text": [
      "[[ 6]\n",
      " [10]\n",
      " [18]\n",
      " [10]\n",
      " [13]\n",
      " [ 8]\n",
      " [11]\n",
      " [ 6]\n",
      " [12]\n",
      " [18]\n",
      " [16]\n",
      " [24]\n",
      " [10]\n",
      " [23]\n",
      " [23]]\n",
      "(15, 1)\n",
      "<class 'numpy.ndarray'>\n"
     ]
    }
   ],
   "source": [
    "a=arregloRandom(15)\n",
    "print(a)\n",
    "print(a.shape)\n",
    "print(type(a))"
   ]
  }
 ],
 "metadata": {
  "kernelspec": {
   "display_name": "Python 3",
   "language": "python",
   "name": "python3"
  },
  "language_info": {
   "codemirror_mode": {
    "name": "ipython",
    "version": 3
   },
   "file_extension": ".py",
   "mimetype": "text/x-python",
   "name": "python",
   "nbconvert_exporter": "python",
   "pygments_lexer": "ipython3",
   "version": "3.7.1"
  }
 },
 "nbformat": 4,
 "nbformat_minor": 2
}
